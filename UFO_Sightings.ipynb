{
 "cells": [
  {
   "cell_type": "markdown",
   "metadata": {},
   "source": [
    "# UFO Sightings"
   ]
  },
  {
   "cell_type": "markdown",
   "metadata": {},
   "source": [
    "## Overview"
   ]
  },
  {
   "cell_type": "markdown",
   "metadata": {},
   "source": [
    "## Business Problem"
   ]
  },
  {
   "cell_type": "markdown",
   "metadata": {},
   "source": [
    "I am working with a television network who wants to create a special program about UFO sightings in America in the past couple years. They want to see specific trendlines about these UFO sightings and observations about their occurences."
   ]
  },
  {
   "cell_type": "markdown",
   "metadata": {},
   "source": [
    "## Data Source"
   ]
  },
  {
   "cell_type": "markdown",
   "metadata": {},
   "source": [
    "https://www.kaggle.com/datasets/NUFORC/ufo-sightings?resource=download"
   ]
  },
  {
   "cell_type": "markdown",
   "metadata": {},
   "source": [
    "## Results"
   ]
  },
  {
   "cell_type": "markdown",
   "metadata": {},
   "source": [
    "## Importing"
   ]
  },
  {
   "cell_type": "code",
   "execution_count": 1,
   "metadata": {},
   "outputs": [],
   "source": [
    "import pandas as pd\n",
    "import numpy as np\n",
    "import matplotlib.pyplot as plt\n",
    "from matplotlib.ticker import FuncFormatter\n",
    "import matplotlib.colors as mcolors\n",
    "import seaborn as sns\n",
    "import geopandas as gpd\n",
    "from shapely.geometry import Polygon\n",
    "import missingno as msno\n",
    "import os\n",
    "import wget\n",
    "import openpyxl\n",
    "import math"
   ]
  },
  {
   "cell_type": "code",
   "execution_count": 2,
   "metadata": {},
   "outputs": [
    {
     "name": "stderr",
     "output_type": "stream",
     "text": [
      "b'Skipping line 878: expected 11 fields, saw 12\\nSkipping line 1713: expected 11 fields, saw 12\\nSkipping line 1815: expected 11 fields, saw 12\\nSkipping line 2858: expected 11 fields, saw 12\\nSkipping line 3734: expected 11 fields, saw 12\\nSkipping line 4756: expected 11 fields, saw 12\\nSkipping line 5389: expected 11 fields, saw 12\\nSkipping line 5423: expected 11 fields, saw 12\\nSkipping line 5614: expected 11 fields, saw 12\\nSkipping line 5849: expected 11 fields, saw 12\\nSkipping line 6093: expected 11 fields, saw 12\\nSkipping line 7516: expected 11 fields, saw 12\\nSkipping line 7626: expected 11 fields, saw 12\\nSkipping line 8893: expected 11 fields, saw 12\\nSkipping line 9015: expected 11 fields, saw 12\\nSkipping line 9571: expected 11 fields, saw 12\\nSkipping line 9620: expected 11 fields, saw 12\\nSkipping line 9751: expected 11 fields, saw 12\\nSkipping line 10157: expected 11 fields, saw 12\\nSkipping line 10427: expected 11 fields, saw 12\\nSkipping line 12035: expected 11 fields, saw 12\\nSkipping line 12113: expected 11 fields, saw 12\\nSkipping line 12144: expected 11 fields, saw 12\\nSkipping line 12891: expected 11 fields, saw 12\\nSkipping line 14613: expected 11 fields, saw 12\\nSkipping line 16031: expected 11 fields, saw 12\\nSkipping line 16344: expected 11 fields, saw 12\\nSkipping line 16399: expected 11 fields, saw 12\\nSkipping line 16635: expected 11 fields, saw 12\\nSkipping line 16722: expected 11 fields, saw 12\\nSkipping line 18241: expected 11 fields, saw 12\\nSkipping line 18367: expected 11 fields, saw 12\\nSkipping line 18479: expected 11 fields, saw 12\\nSkipping line 19814: expected 11 fields, saw 12\\nSkipping line 19859: expected 11 fields, saw 12\\nSkipping line 19909: expected 11 fields, saw 12\\nSkipping line 19935: expected 11 fields, saw 12\\nSkipping line 20386: expected 11 fields, saw 12\\nSkipping line 20533: expected 11 fields, saw 12\\nSkipping line 20764: expected 11 fields, saw 12\\nSkipping line 21145: expected 11 fields, saw 12\\nSkipping line 21291: expected 11 fields, saw 12\\nSkipping line 21309: expected 11 fields, saw 12\\nSkipping line 21576: expected 11 fields, saw 12\\nSkipping line 21966: expected 11 fields, saw 12\\nSkipping line 22092: expected 11 fields, saw 12\\nSkipping line 22108: expected 11 fields, saw 12\\nSkipping line 22236: expected 11 fields, saw 12\\nSkipping line 22785: expected 11 fields, saw 12\\nSkipping line 23143: expected 11 fields, saw 12\\nSkipping line 23145: expected 11 fields, saw 12\\nSkipping line 23251: expected 11 fields, saw 12\\nSkipping line 23369: expected 11 fields, saw 12\\nSkipping line 23464: expected 11 fields, saw 12\\nSkipping line 23622: expected 11 fields, saw 12\\nSkipping line 23732: expected 11 fields, saw 12\\nSkipping line 23924: expected 11 fields, saw 12\\nSkipping line 24696: expected 11 fields, saw 12\\nSkipping line 25543: expected 11 fields, saw 12\\nSkipping line 25703: expected 11 fields, saw 12\\nSkipping line 25815: expected 11 fields, saw 12\\nSkipping line 26185: expected 11 fields, saw 12\\nSkipping line 27424: expected 11 fields, saw 12\\nSkipping line 27465: expected 11 fields, saw 12\\nSkipping line 28083: expected 11 fields, saw 12\\nSkipping line 28282: expected 11 fields, saw 12\\nSkipping line 28460: expected 11 fields, saw 12\\nSkipping line 28745: expected 11 fields, saw 12\\nSkipping line 29674: expected 11 fields, saw 12\\nSkipping line 30342: expected 11 fields, saw 12\\nSkipping line 30417: expected 11 fields, saw 12\\nSkipping line 31154: expected 11 fields, saw 12\\nSkipping line 31308: expected 11 fields, saw 12\\nSkipping line 32198: expected 11 fields, saw 12\\nSkipping line 32439: expected 11 fields, saw 12\\nSkipping line 32675: expected 11 fields, saw 12\\nSkipping line 33134: expected 11 fields, saw 12\\nSkipping line 33442: expected 11 fields, saw 12\\nSkipping line 34184: expected 11 fields, saw 12\\nSkipping line 34731: expected 11 fields, saw 12\\nSkipping line 34869: expected 11 fields, saw 12\\nSkipping line 35107: expected 11 fields, saw 12\\nSkipping line 35300: expected 11 fields, saw 12\\nSkipping line 35396: expected 11 fields, saw 12\\nSkipping line 35913: expected 11 fields, saw 12\\nSkipping line 36445: expected 11 fields, saw 12\\nSkipping line 36693: expected 11 fields, saw 12\\nSkipping line 36723: expected 11 fields, saw 12\\nSkipping line 37293: expected 11 fields, saw 12\\nSkipping line 37361: expected 11 fields, saw 12\\nSkipping line 37980: expected 11 fields, saw 12\\nSkipping line 38090: expected 11 fields, saw 12\\nSkipping line 38197: expected 11 fields, saw 12\\nSkipping line 39431: expected 11 fields, saw 12\\nSkipping line 39598: expected 11 fields, saw 12\\nSkipping line 39679: expected 11 fields, saw 12\\nSkipping line 39794: expected 11 fields, saw 12\\nSkipping line 40021: expected 11 fields, saw 12\\nSkipping line 40430: expected 11 fields, saw 12\\nSkipping line 42858: expected 11 fields, saw 12\\nSkipping line 43662: expected 11 fields, saw 12\\nSkipping line 44162: expected 11 fields, saw 12\\nSkipping line 45529: expected 11 fields, saw 12\\nSkipping line 46678: expected 11 fields, saw 12\\nSkipping line 46788: expected 11 fields, saw 12\\nSkipping line 46811: expected 11 fields, saw 12\\nSkipping line 46924: expected 11 fields, saw 12\\nSkipping line 47287: expected 11 fields, saw 12\\nSkipping line 47377: expected 11 fields, saw 12\\nSkipping line 47419: expected 11 fields, saw 12\\nSkipping line 47492: expected 11 fields, saw 12\\nSkipping line 47629: expected 11 fields, saw 12\\nSkipping line 48125: expected 11 fields, saw 12\\nSkipping line 48932: expected 11 fields, saw 12\\nSkipping line 48971: expected 11 fields, saw 12\\nSkipping line 49440: expected 11 fields, saw 12\\nSkipping line 49457: expected 11 fields, saw 12\\nSkipping line 50670: expected 11 fields, saw 12\\nSkipping line 50960: expected 11 fields, saw 12\\nSkipping line 51275: expected 11 fields, saw 12\\nSkipping line 51649: expected 11 fields, saw 12\\nSkipping line 51993: expected 11 fields, saw 12\\nSkipping line 52023: expected 11 fields, saw 12\\nSkipping line 52059: expected 11 fields, saw 12\\nSkipping line 52259: expected 11 fields, saw 12\\nSkipping line 52368: expected 11 fields, saw 12\\nSkipping line 52783: expected 11 fields, saw 12\\nSkipping line 53064: expected 11 fields, saw 12\\nSkipping line 53135: expected 11 fields, saw 12\\nSkipping line 53514: expected 11 fields, saw 12\\nSkipping line 54092: expected 11 fields, saw 12\\nSkipping line 55403: expected 11 fields, saw 12\\nSkipping line 57476: expected 11 fields, saw 12\\nSkipping line 58646: expected 11 fields, saw 12\\nSkipping line 58808: expected 11 fields, saw 12\\nSkipping line 59119: expected 11 fields, saw 12\\nSkipping line 59727: expected 11 fields, saw 12\\nSkipping line 60386: expected 11 fields, saw 12\\nSkipping line 60478: expected 11 fields, saw 12\\nSkipping line 60542: expected 11 fields, saw 12\\nSkipping line 60913: expected 11 fields, saw 12\\nSkipping line 61032: expected 11 fields, saw 12\\nSkipping line 61640: expected 11 fields, saw 12\\nSkipping line 61732: expected 11 fields, saw 12\\nSkipping line 62029: expected 11 fields, saw 12\\nSkipping line 62219: expected 11 fields, saw 12\\nSkipping line 63657: expected 11 fields, saw 12\\nSkipping line 64712: expected 11 fields, saw 12\\n'\n",
      "b'Skipping line 65881: expected 11 fields, saw 12\\nSkipping line 66093: expected 11 fields, saw 12\\nSkipping line 66095: expected 11 fields, saw 12\\nSkipping line 66476: expected 11 fields, saw 12\\nSkipping line 66549: expected 11 fields, saw 12\\nSkipping line 66550: expected 11 fields, saw 12\\nSkipping line 68102: expected 11 fields, saw 12\\nSkipping line 69441: expected 11 fields, saw 12\\nSkipping line 70104: expected 11 fields, saw 12\\nSkipping line 70452: expected 11 fields, saw 12\\nSkipping line 70642: expected 11 fields, saw 12\\nSkipping line 70644: expected 11 fields, saw 12\\nSkipping line 70716: expected 11 fields, saw 12\\nSkipping line 71345: expected 11 fields, saw 12\\nSkipping line 71634: expected 11 fields, saw 12\\nSkipping line 72091: expected 11 fields, saw 12\\nSkipping line 72119: expected 11 fields, saw 12\\nSkipping line 73543: expected 11 fields, saw 12\\nSkipping line 74654: expected 11 fields, saw 12\\nSkipping line 74785: expected 11 fields, saw 12\\nSkipping line 74918: expected 11 fields, saw 12\\nSkipping line 75062: expected 11 fields, saw 12\\nSkipping line 75346: expected 11 fields, saw 12\\nSkipping line 75416: expected 11 fields, saw 12\\nSkipping line 75677: expected 11 fields, saw 12\\nSkipping line 75833: expected 11 fields, saw 12\\nSkipping line 76117: expected 11 fields, saw 12\\nSkipping line 76834: expected 11 fields, saw 12\\nSkipping line 77540: expected 11 fields, saw 12\\nSkipping line 77568: expected 11 fields, saw 12\\nSkipping line 77607: expected 11 fields, saw 12\\nSkipping line 77871: expected 11 fields, saw 12\\nSkipping line 78117: expected 11 fields, saw 12\\nSkipping line 78526: expected 11 fields, saw 12\\nSkipping line 78605: expected 11 fields, saw 12\\nSkipping line 79151: expected 11 fields, saw 12\\nSkipping line 79945: expected 11 fields, saw 12\\nSkipping line 80156: expected 11 fields, saw 12\\nSkipping line 80328: expected 11 fields, saw 12\\nSkipping line 80382: expected 11 fields, saw 12\\nSkipping line 80421: expected 11 fields, saw 12\\nSkipping line 80503: expected 11 fields, saw 12\\nSkipping line 82071: expected 11 fields, saw 12\\nSkipping line 82566: expected 11 fields, saw 12\\nSkipping line 86123: expected 11 fields, saw 12\\nSkipping line 87218: expected 11 fields, saw 12\\nSkipping line 87457: expected 11 fields, saw 12\\nSkipping line 87579: expected 11 fields, saw 12\\n'\n",
      "C:\\Users\\Owner\\anaconda3\\envs\\learn-env\\lib\\site-packages\\IPython\\core\\interactiveshell.py:3145: DtypeWarning: Columns (5,9) have mixed types.Specify dtype option on import or set low_memory=False.\n",
      "  has_raised = await self.run_ast_nodes(code_ast.body, cell_name,\n"
     ]
    }
   ],
   "source": [
    "#reads in UFO database\n",
    "df = pd.read_csv(\"data/complete.csv\", error_bad_lines=False) #some lines had 12 values rather than 11, bad lines"
   ]
  },
  {
   "cell_type": "code",
   "execution_count": 3,
   "metadata": {},
   "outputs": [
    {
     "data": {
      "text/html": [
       "<div>\n",
       "<style scoped>\n",
       "    .dataframe tbody tr th:only-of-type {\n",
       "        vertical-align: middle;\n",
       "    }\n",
       "\n",
       "    .dataframe tbody tr th {\n",
       "        vertical-align: top;\n",
       "    }\n",
       "\n",
       "    .dataframe thead th {\n",
       "        text-align: right;\n",
       "    }\n",
       "</style>\n",
       "<table border=\"1\" class=\"dataframe\">\n",
       "  <thead>\n",
       "    <tr style=\"text-align: right;\">\n",
       "      <th></th>\n",
       "      <th>datetime</th>\n",
       "      <th>city</th>\n",
       "      <th>state</th>\n",
       "      <th>country</th>\n",
       "      <th>shape</th>\n",
       "      <th>duration (seconds)</th>\n",
       "      <th>duration (hours/min)</th>\n",
       "      <th>comments</th>\n",
       "      <th>date posted</th>\n",
       "      <th>latitude</th>\n",
       "      <th>longitude</th>\n",
       "    </tr>\n",
       "  </thead>\n",
       "  <tbody>\n",
       "    <tr>\n",
       "      <th>0</th>\n",
       "      <td>10/10/1949 20:30</td>\n",
       "      <td>san marcos</td>\n",
       "      <td>tx</td>\n",
       "      <td>us</td>\n",
       "      <td>cylinder</td>\n",
       "      <td>2700</td>\n",
       "      <td>45 minutes</td>\n",
       "      <td>This event took place in early fall around 194...</td>\n",
       "      <td>4/27/2004</td>\n",
       "      <td>29.8830556</td>\n",
       "      <td>-97.941111</td>\n",
       "    </tr>\n",
       "    <tr>\n",
       "      <th>1</th>\n",
       "      <td>10/10/1949 21:00</td>\n",
       "      <td>lackland afb</td>\n",
       "      <td>tx</td>\n",
       "      <td>NaN</td>\n",
       "      <td>light</td>\n",
       "      <td>7200</td>\n",
       "      <td>1-2 hrs</td>\n",
       "      <td>1949 Lackland AFB&amp;#44 TX.  Lights racing acros...</td>\n",
       "      <td>12/16/2005</td>\n",
       "      <td>29.38421</td>\n",
       "      <td>-98.581082</td>\n",
       "    </tr>\n",
       "    <tr>\n",
       "      <th>2</th>\n",
       "      <td>10/10/1955 17:00</td>\n",
       "      <td>chester (uk/england)</td>\n",
       "      <td>NaN</td>\n",
       "      <td>gb</td>\n",
       "      <td>circle</td>\n",
       "      <td>20</td>\n",
       "      <td>20 seconds</td>\n",
       "      <td>Green/Orange circular disc over Chester&amp;#44 En...</td>\n",
       "      <td>1/21/2008</td>\n",
       "      <td>53.2</td>\n",
       "      <td>-2.916667</td>\n",
       "    </tr>\n",
       "    <tr>\n",
       "      <th>3</th>\n",
       "      <td>10/10/1956 21:00</td>\n",
       "      <td>edna</td>\n",
       "      <td>tx</td>\n",
       "      <td>us</td>\n",
       "      <td>circle</td>\n",
       "      <td>20</td>\n",
       "      <td>1/2 hour</td>\n",
       "      <td>My older brother and twin sister were leaving ...</td>\n",
       "      <td>1/17/2004</td>\n",
       "      <td>28.9783333</td>\n",
       "      <td>-96.645833</td>\n",
       "    </tr>\n",
       "    <tr>\n",
       "      <th>4</th>\n",
       "      <td>10/10/1960 20:00</td>\n",
       "      <td>kaneohe</td>\n",
       "      <td>hi</td>\n",
       "      <td>us</td>\n",
       "      <td>light</td>\n",
       "      <td>900</td>\n",
       "      <td>15 minutes</td>\n",
       "      <td>AS a Marine 1st Lt. flying an FJ4B fighter/att...</td>\n",
       "      <td>1/22/2004</td>\n",
       "      <td>21.4180556</td>\n",
       "      <td>-157.803611</td>\n",
       "    </tr>\n",
       "    <tr>\n",
       "      <th>...</th>\n",
       "      <td>...</td>\n",
       "      <td>...</td>\n",
       "      <td>...</td>\n",
       "      <td>...</td>\n",
       "      <td>...</td>\n",
       "      <td>...</td>\n",
       "      <td>...</td>\n",
       "      <td>...</td>\n",
       "      <td>...</td>\n",
       "      <td>...</td>\n",
       "      <td>...</td>\n",
       "    </tr>\n",
       "    <tr>\n",
       "      <th>88674</th>\n",
       "      <td>9/9/2013 22:00</td>\n",
       "      <td>napa</td>\n",
       "      <td>ca</td>\n",
       "      <td>us</td>\n",
       "      <td>other</td>\n",
       "      <td>1200</td>\n",
       "      <td>hour</td>\n",
       "      <td>Napa UFO&amp;#44</td>\n",
       "      <td>9/30/2013</td>\n",
       "      <td>38.2972</td>\n",
       "      <td>-122.284444</td>\n",
       "    </tr>\n",
       "    <tr>\n",
       "      <th>88675</th>\n",
       "      <td>9/9/2013 22:20</td>\n",
       "      <td>vienna</td>\n",
       "      <td>va</td>\n",
       "      <td>us</td>\n",
       "      <td>circle</td>\n",
       "      <td>5</td>\n",
       "      <td>5 seconds</td>\n",
       "      <td>Saw a five gold lit cicular craft moving fastl...</td>\n",
       "      <td>9/30/2013</td>\n",
       "      <td>38.9011</td>\n",
       "      <td>-77.265556</td>\n",
       "    </tr>\n",
       "    <tr>\n",
       "      <th>88676</th>\n",
       "      <td>9/9/2013 23:00</td>\n",
       "      <td>edmond</td>\n",
       "      <td>ok</td>\n",
       "      <td>us</td>\n",
       "      <td>cigar</td>\n",
       "      <td>1020</td>\n",
       "      <td>17 minutes</td>\n",
       "      <td>2 witnesses 2  miles apart&amp;#44 Red &amp;amp; White...</td>\n",
       "      <td>9/30/2013</td>\n",
       "      <td>35.6528</td>\n",
       "      <td>-97.477778</td>\n",
       "    </tr>\n",
       "    <tr>\n",
       "      <th>88677</th>\n",
       "      <td>9/9/2013 23:00</td>\n",
       "      <td>starr</td>\n",
       "      <td>sc</td>\n",
       "      <td>us</td>\n",
       "      <td>diamond</td>\n",
       "      <td>0</td>\n",
       "      <td>2 nights</td>\n",
       "      <td>On September ninth my wife and i noticed stran...</td>\n",
       "      <td>9/30/2013</td>\n",
       "      <td>34.3769</td>\n",
       "      <td>-82.695833</td>\n",
       "    </tr>\n",
       "    <tr>\n",
       "      <th>88678</th>\n",
       "      <td>9/9/2013 23:30</td>\n",
       "      <td>ft. lauderdale</td>\n",
       "      <td>fl</td>\n",
       "      <td>us</td>\n",
       "      <td>oval</td>\n",
       "      <td>0</td>\n",
       "      <td>still occuring</td>\n",
       "      <td>Hovering object lit with red and white lights&amp;...</td>\n",
       "      <td>9/30/2013</td>\n",
       "      <td>26.1219</td>\n",
       "      <td>-80.143611</td>\n",
       "    </tr>\n",
       "  </tbody>\n",
       "</table>\n",
       "<p>88679 rows × 11 columns</p>\n",
       "</div>"
      ],
      "text/plain": [
       "               datetime                  city state country     shape  \\\n",
       "0      10/10/1949 20:30            san marcos    tx      us  cylinder   \n",
       "1      10/10/1949 21:00          lackland afb    tx     NaN     light   \n",
       "2      10/10/1955 17:00  chester (uk/england)   NaN      gb    circle   \n",
       "3      10/10/1956 21:00                  edna    tx      us    circle   \n",
       "4      10/10/1960 20:00               kaneohe    hi      us     light   \n",
       "...                 ...                   ...   ...     ...       ...   \n",
       "88674    9/9/2013 22:00                  napa    ca      us     other   \n",
       "88675    9/9/2013 22:20                vienna    va      us    circle   \n",
       "88676    9/9/2013 23:00                edmond    ok      us     cigar   \n",
       "88677    9/9/2013 23:00                 starr    sc      us   diamond   \n",
       "88678    9/9/2013 23:30        ft. lauderdale    fl      us      oval   \n",
       "\n",
       "      duration (seconds) duration (hours/min)  \\\n",
       "0                   2700           45 minutes   \n",
       "1                   7200              1-2 hrs   \n",
       "2                     20           20 seconds   \n",
       "3                     20             1/2 hour   \n",
       "4                    900           15 minutes   \n",
       "...                  ...                  ...   \n",
       "88674               1200                 hour   \n",
       "88675                  5            5 seconds   \n",
       "88676               1020           17 minutes   \n",
       "88677                  0             2 nights   \n",
       "88678                  0       still occuring   \n",
       "\n",
       "                                                comments date posted  \\\n",
       "0      This event took place in early fall around 194...   4/27/2004   \n",
       "1      1949 Lackland AFB&#44 TX.  Lights racing acros...  12/16/2005   \n",
       "2      Green/Orange circular disc over Chester&#44 En...   1/21/2008   \n",
       "3      My older brother and twin sister were leaving ...   1/17/2004   \n",
       "4      AS a Marine 1st Lt. flying an FJ4B fighter/att...   1/22/2004   \n",
       "...                                                  ...         ...   \n",
       "88674                                       Napa UFO&#44   9/30/2013   \n",
       "88675  Saw a five gold lit cicular craft moving fastl...   9/30/2013   \n",
       "88676  2 witnesses 2  miles apart&#44 Red &amp; White...   9/30/2013   \n",
       "88677  On September ninth my wife and i noticed stran...   9/30/2013   \n",
       "88678  Hovering object lit with red and white lights&...   9/30/2013   \n",
       "\n",
       "         latitude   longitude  \n",
       "0      29.8830556  -97.941111  \n",
       "1        29.38421  -98.581082  \n",
       "2            53.2   -2.916667  \n",
       "3      28.9783333  -96.645833  \n",
       "4      21.4180556 -157.803611  \n",
       "...           ...         ...  \n",
       "88674     38.2972 -122.284444  \n",
       "88675     38.9011  -77.265556  \n",
       "88676     35.6528  -97.477778  \n",
       "88677     34.3769  -82.695833  \n",
       "88678     26.1219  -80.143611  \n",
       "\n",
       "[88679 rows x 11 columns]"
      ]
     },
     "execution_count": 3,
     "metadata": {},
     "output_type": "execute_result"
    }
   ],
   "source": [
    "df"
   ]
  },
  {
   "cell_type": "code",
   "execution_count": 4,
   "metadata": {},
   "outputs": [],
   "source": [
    "df[\"year\"] = [int(date[-10:-6]) for date in df['datetime'].values]\n",
    "df = df.loc[df[\"year\"] > 1993]\n",
    "df = df.loc[df[\"year\"] < 2014]"
   ]
  },
  {
   "cell_type": "code",
   "execution_count": 5,
   "metadata": {},
   "outputs": [
    {
     "data": {
      "image/png": "[encoded data removed]",
      "text/plain": [
       "<Figure size 1296x720 with 1 Axes>"
      ]
     },
     "metadata": {
      "needs_background": "light"
     },
     "output_type": "display_data"
    }
   ],
   "source": [
    "#graph for amount of UFO sightings over the years\n",
    "years = df[\"year\"].value_counts().sort_index()\n",
    "plt.figure(figsize=(18,10))\n",
    "plt.xticks(years.index)\n",
    "plt.plot(years.index, years.values)\n",
    "plt.xlabel(\"Year\")\n",
    "plt.ylabel(\"UFO Sightings\")\n",
    "plt.title(\"Amount of UFO Sightings over the Years\")\n",
    "plt.show()"
   ]
  },
  {
   "cell_type": "code",
   "execution_count": 6,
   "metadata": {},
   "outputs": [
    {
     "name": "stdout",
     "output_type": "stream",
     "text": [
      "False    67471\n",
      "True     10353\n",
      "Name: country, dtype: int64\n"
     ]
    },
    {
     "data": {
      "image/png": "[encoded data removed]",
      "text/plain": [
       "<Figure size 432x288 with 1 Axes>"
      ]
     },
     "metadata": {
      "needs_background": "light"
     },
     "output_type": "display_data"
    }
   ],
   "source": [
    "#graph of amount of UFO sightings per country\n",
    "print(df[\"country\"].isna().value_counts())\n",
    "country = df[\"country\"].value_counts()\n",
    "plt.bar(country.index, country.values)\n",
    "plt.xlabel(\"Country\")\n",
    "plt.ylabel(\"UFO Sightings\")\n",
    "plt.title(\"Amount of UFO Sightings per Country\")\n",
    "plt.show()\n",
    "df = df.loc[df[\"country\"] == \"us\"]"
   ]
  },
  {
   "cell_type": "code",
   "execution_count": 7,
   "metadata": {},
   "outputs": [
    {
     "data": {
      "text/plain": [
       "ca    8515\n",
       "wa    3956\n",
       "fl    3635\n",
       "tx    3275\n",
       "ny    2768\n",
       "il    2459\n",
       "az    2408\n",
       "pa    2200\n",
       "oh    2149\n",
       "mi    1744\n",
       "or    1710\n",
       "nc    1644\n",
       "mo    1394\n",
       "co    1379\n",
       "in    1237\n",
       "va    1205\n",
       "ga    1172\n",
       "wi    1170\n",
       "nj    1166\n",
       "ma    1162\n",
       "tn    1089\n",
       "mn     973\n",
       "sc     960\n",
       "ct     830\n",
       "ky     790\n",
       "nv     778\n",
       "md     769\n",
       "nm     678\n",
       "ok     677\n",
       "ia     654\n",
       "ut     581\n",
       "al     577\n",
       "ks     576\n",
       "ar     564\n",
       "me     511\n",
       "id     505\n",
       "la     494\n",
       "mt     466\n",
       "nh     442\n",
       "wv     420\n",
       "ne     368\n",
       "ms     335\n",
       "ak     280\n",
       "vt     260\n",
       "hi     236\n",
       "ri     218\n",
       "sd     173\n",
       "wy     168\n",
       "de     154\n",
       "nd     120\n",
       "pr      17\n",
       "dc       7\n",
       "Name: state, dtype: int64"
      ]
     },
     "execution_count": 7,
     "metadata": {},
     "output_type": "execute_result"
    }
   ],
   "source": [
    "df[\"state\"].value_counts() #highest occurence in california "
   ]
  },
  {
   "cell_type": "code",
   "execution_count": 9,
   "metadata": {},
   "outputs": [
    {
     "data": {
      "text/plain": [
       "light        13093\n",
       "triangle      6155\n",
       "circle        5852\n",
       "fireball      5016\n",
       "unknown       4506\n",
       "other         4206\n",
       "sphere        3961\n",
       "disk          3240\n",
       "oval          2782\n",
       "formation     1914\n",
       "changing      1588\n",
       "cigar         1394\n",
       "flash         1097\n",
       "rectangle      958\n",
       "cylinder       951\n",
       "diamond        900\n",
       "chevron        747\n",
       "teardrop       591\n",
       "egg            555\n",
       "cone           258\n",
       "cross          195\n",
       "delta            5\n",
       "round            2\n",
       "pyramid          1\n",
       "crescent         1\n",
       "changed          1\n",
       "flare            1\n",
       "hexagon          1\n",
       "Name: shape, dtype: int64"
      ]
     },
     "execution_count": 9,
     "metadata": {},
     "output_type": "execute_result"
    }
   ],
   "source": [
    "df[\"shape\"].value_counts() #highest occurence shape is light"
   ]
  },
  {
   "cell_type": "code",
   "execution_count": null,
   "metadata": {},
   "outputs": [],
   "source": []
  }
 ],
 "metadata": {
  "kernelspec": {
   "display_name": "Python (learn-env)",
   "language": "python",
   "name": "learn-env"
  },
  "language_info": {
   "codemirror_mode": {
    "name": "ipython",
    "version": 3
   },
   "file_extension": ".py",
   "mimetype": "text/x-python",
   "name": "python",
   "nbconvert_exporter": "python",
   "pygments_lexer": "ipython3",
   "version": "3.8.5"
  }
 },
 "nbformat": 4,
 "nbformat_minor": 4
}
